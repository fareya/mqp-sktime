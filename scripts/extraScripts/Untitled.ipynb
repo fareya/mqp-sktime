{
 "cells": [
  {
   "cell_type": "code",
   "execution_count": 2,
   "metadata": {},
   "outputs": [
    {
     "data": {
      "text/plain": [
       "<bound method NDFrame.head of                          name             event channel  start time  end time  \\\n",
       "0      001-SART-August2017-MB    target correct   A-DC1       65040     66573   \n",
       "2      001-SART-August2017-MB    target correct   A-DC1       94434     95952   \n",
       "3      001-SART-August2017-MB    target correct   A-DC1      125532    127033   \n",
       "4      001-SART-August2017-MB    target correct   A-DC1      164788    166305   \n",
       "5      001-SART-August2017-MB    target correct   A-DC1      210633    212143   \n",
       "...                       ...               ...     ...         ...       ...   \n",
       "11227  011-SART-August2017-QZ  target incorrect   B-DC9     1867463   1868965   \n",
       "11228  011-SART-August2017-QZ  target incorrect   B-DC9     1880692   1882195   \n",
       "11229  011-SART-August2017-QZ  target incorrect   B-DC9     1944277   1945807   \n",
       "11230  011-SART-August2017-QZ  target incorrect   B-DC9     1955902   1957420   \n",
       "11231  011-SART-August2017-QZ  target incorrect   B-DC9     1975587   1977089   \n",
       "\n",
       "                1           2           3           4           5           6  \\\n",
       "0      17704.0000  17708.0000  17660.0000  17689.0000  17724.0000  17768.0000   \n",
       "2      17411.0000  17389.0000  17370.0000  17392.0000  17407.0000  17387.0000   \n",
       "3      17372.0000  17327.0000  17378.0000  17391.0000  17371.0000  17378.0000   \n",
       "4      17714.0000  17695.0000  17685.0000  17661.0000  17674.0000  17679.0000   \n",
       "5      17745.0000  17799.0000  17832.0000  17861.0000  17878.0000  17877.0000   \n",
       "...           ...         ...         ...         ...         ...         ...   \n",
       "11227   9579.7002   9591.9004   9616.0996   9599.0000   9608.5996   9604.5996   \n",
       "11228   9599.4004   9588.0000   9595.4004   9591.0996   9606.5000   9573.5996   \n",
       "11229   9517.4004   9504.0996   9528.7998   9526.7998   9505.5000   9505.5996   \n",
       "11230   9603.2998   9608.9004   9600.0000   9634.9004   9614.0996   9600.5996   \n",
       "11231   9556.9004   9551.0000   9559.7002   9570.0000   9579.5000   9581.9004   \n",
       "\n",
       "                7           8           9          10          11          12  \\\n",
       "0      17768.0000  17728.0000  17673.0000  17699.0000  17716.0000  17715.0000   \n",
       "2      17368.0000  17368.0000  17355.0000  17419.0000  17416.0000  17430.0000   \n",
       "3      17378.0000  17371.0000  17349.0000  17381.0000  17464.0000  17510.0000   \n",
       "4      17690.0000  17690.0000  17714.0000  17673.0000  17661.0000  17718.0000   \n",
       "5      17877.0000  17856.0000  17891.0000  17963.0000  17989.0000  17990.0000   \n",
       "...           ...         ...         ...         ...         ...         ...   \n",
       "11227   9604.5996   9621.5000   9592.4004   9599.0000   9578.2002   9631.5000   \n",
       "11228   9593.7002   9593.7002   9599.5996   9636.5000   9614.0000   9596.0996   \n",
       "11229   9505.5996   9505.7998   9549.5000   9533.2998   9532.7002   9542.2998   \n",
       "11230   9618.7002   9618.7002   9606.5996   9635.7998   9623.4004   9624.0996   \n",
       "11231   9581.9004   9569.2002   9575.9004   9584.2998   9573.5996   9565.5000   \n",
       "\n",
       "               13  \n",
       "0      17715.0000  \n",
       "2      17430.0000  \n",
       "3      17510.0000  \n",
       "4      17718.0000  \n",
       "5      17990.0000  \n",
       "...           ...  \n",
       "11227   9631.5000  \n",
       "11228   9596.0996  \n",
       "11229   9542.2998  \n",
       "11230   9624.0996  \n",
       "11231   9565.5000  \n",
       "\n",
       "[11216 rows x 18 columns]>"
      ]
     },
     "execution_count": 2,
     "metadata": {},
     "output_type": "execute_result"
    }
   ],
   "source": [
    "# this is to remove all those duplicated from sart data\n",
    "import pandas as pd \n",
    "data = pd.read_csv(\"../scripts/data/SART_2017.csv\") \n",
    "data=data.drop_duplicates()\n",
    "data.head"
   ]
  },
  {
   "cell_type": "code",
   "execution_count": 3,
   "metadata": {},
   "outputs": [],
   "source": [
    "data.to_csv(\"stuff\")"
   ]
  },
  {
   "cell_type": "code",
   "execution_count": null,
   "metadata": {},
   "outputs": [],
   "source": []
  }
 ],
 "metadata": {
  "kernelspec": {
   "display_name": "Python 3",
   "language": "python",
   "name": "python3"
  },
  "language_info": {
   "codemirror_mode": {
    "name": "ipython",
    "version": 3
   },
   "file_extension": ".py",
   "mimetype": "text/x-python",
   "name": "python",
   "nbconvert_exporter": "python",
   "pygments_lexer": "ipython3",
   "version": "3.7.4"
  }
 },
 "nbformat": 4,
 "nbformat_minor": 2
}
