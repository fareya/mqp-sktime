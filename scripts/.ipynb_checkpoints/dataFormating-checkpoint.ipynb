{
 "cells": [
  {
   "cell_type": "code",
   "execution_count": 14,
   "metadata": {},
   "outputs": [],
   "source": [
    "from sktime.transformers.compose import ColumnConcatenator\n",
    "from sktime.classifiers.compose import TimeSeriesForestClassifier\n",
    "from sktime.classifiers.dictionary_based.boss import BOSSEnsemble\n",
    "from sktime.classifiers.compose import ColumnEnsembleClassifier\n",
    "from sktime.classifiers.shapelet_based import ShapeletTransformClassifier\n",
    "from sktime.datasets import load_basic_motions\n",
    "from sktime.pipeline import Pipeline\n",
    "\n",
    "from sktime.classifiers.distance_based import ProximityForest\n",
    "from sktime.classifiers.distance_based import KNeighborsTimeSeriesClassifier\n",
    "\n",
    "import numpy as np\n",
    "import pandas as pd\n",
    "\n",
    "\n",
    "#cleaning up whatever happened in loading data \n",
    "#feed in the data \n",
    "from sktime.utils.load_data import from_long_to_nested\n",
    "import time \n",
    "\n",
    "#setting constants \n",
    "classifer={\n",
    "    'TSF_CLF':0,\n",
    "    'PF_CLF':1,\n",
    "    'KNN_CLF':2\n",
    "}\n",
    "\n",
    "\n",
    "#concatenates ....\n",
    "#make this assumption cleare \n",
    "#write better columns \n",
    "#error messages\n",
    "#define constants when refactoring(readability)\n",
    "\n",
    "#extracting the data from the csv as a dataframe and reformatting it \n",
    "\n",
    "def reformatData(target, file_name):\n",
    "    raw_df= pd.read_csv(file_name)\n",
    "    \n",
    "    #collapses the time cols \n",
    "    long_table_df= raw_df.melt(id_vars=[\"event\", \"name\",\"start time\", \"end time\",\"channel\"], \n",
    "            var_name=\"anindex\", \n",
    "            value_name=\"value\")\n",
    "\n",
    "    sorted_long_table_df=long_table_df.sort_values(by=['event','name','start time','channel'], axis=0)\n",
    "\n",
    "    unique_dim_ids = sorted_long_table_df.iloc[:, 4].unique()\n",
    "\n",
    "    for i in range(len(unique_dim_ids)):\n",
    "        my_channel=unique_dim_ids[i]\n",
    "        sorted_long_table_df['channel']=sorted_long_table_df['channel'].replace({my_channel:i})\n",
    "    unique_start_time = sorted_long_table_df.iloc[:, 2].unique()\n",
    "\n",
    "    for i in range(len(unique_start_time)):\n",
    "        my_time=unique_start_time[i]\n",
    "        sorted_long_table_df['start time']=sorted_long_table_df['start time'].replace({my_time:i})\n",
    "\n",
    "    \n",
    "    sorted_long_table_df_stripped=sorted_long_table_df.drop(columns=['event','name','end time'])\n",
    "\n",
    "    sorted_long_table_df_stripped.head()\n",
    "    df_nested = from_long_to_nested(sorted_long_table_df_stripped)\n",
    "\n",
    "\n",
    "    target='event'\n",
    "    new_unique_start_time=sorted_long_table_df.iloc[:, 2].unique()\n",
    "    labels=[]\n",
    "    for e in new_unique_start_time:\n",
    "        x=sorted_long_table_df.loc[sorted_long_table_df['start time']==e,[target]].iloc[0][0]\n",
    "        labels.append(x)\n",
    "\n",
    "    np_labels= np.asarray(labels, dtype=np.str)\n",
    "    \n",
    "    return df_nested, np_labels \n",
    "\n",
    "def splitTestTrain(X, y, percent_train):\n",
    "    msk = np.random.rand(len(X)) < percent_train\n",
    "    ytrain=y[msk]\n",
    "    ytest=y[~msk]\n",
    "    Xtrain=X[msk]\n",
    "    Xtest=X[~msk]\n",
    "    \n",
    "    return Xtrain, ytrain, Xtest, ytest\n",
    "\n",
    "def concatenateMethod(Classifier, x_train, y_train, x_test, y_test):\n",
    "    steps = [\n",
    "    ('concatenate', ColumnConcatenator()),\n",
    "    ('classify', Classifier(n_estimators=10))]\n",
    "    clf = Pipeline(steps)\n",
    "    clf.fit(x_train, y_train)\n",
    "    return clf.score(x_test, y_test)\n",
    "\n",
    "def concatenateMethodTake2(classifier_num, X, y, percent_train):\n",
    "    concatenation_instance=ColumnConcatenator()\n",
    "    X_concatenated=concatenation_instance.fit(X).transform(X)\n",
    "    Xtrain, ytrain, Xtest, ytest= splitTestTrain(X_concatenated,y,percent_train)\n",
    "    print(Xtrain.head)\n",
    "    print(Xtrain.shape)\n",
    "\n",
    "    if(classifier_num==0):\n",
    "        clf= TimeSeriesForestClassifier(n_estimators=10)\n",
    "        clf.fit(Xtrain, ytrain)\n",
    "        return clf.score(Xtest,ytest)\n",
    "    elif (classifier_num==1):\n",
    "        knn = KNeighborsTimeSeriesClassifier(metric='dtw')\n",
    "        knn.fit(Xtrain, ytrain)\n",
    "        return knn.score(Xtest, ytest)\n",
    "    elif (classifier_num == 2):    \n",
    "        pf = ProximityForest(n_trees=10)\n",
    "        pf.fit(Xtrain, ytrain)\n",
    "        return pf.score(Xtest, ytest)\n",
    "    else: \n",
    "        return 0\n",
    "        "
   ]
  },
  {
   "cell_type": "code",
   "execution_count": 2,
   "metadata": {
    "scrolled": true
   },
   "outputs": [],
   "source": [
    "target='event'\n",
    "file_name=\"../scripts/data/2013e.csv\"\n",
    "X, y=reformatData(target,file_name)\n",
    "percent_train=0.8\n",
    "should_profile=True  "
   ]
  },
  {
   "cell_type": "code",
   "execution_count": 3,
   "metadata": {},
   "outputs": [
    {
     "name": "stdout",
     "output_type": "stream",
     "text": [
      "0.4166666666666667\n"
     ]
    }
   ],
   "source": [
    "#running time series forest classifier \n",
    "acc= concatenateMethodTake2(0, X, y, 0.8)\n",
    "print(acc)"
   ]
  },
  {
   "cell_type": "code",
   "execution_count": 4,
   "metadata": {},
   "outputs": [],
   "source": [
    "#k nearest neighbors \n",
    "acc= concatenateMethodTake2(1, X[[\"dim_0\", \"dim_1\",\"dim_2\"]], y, 0.8)"
   ]
  },
  {
   "cell_type": "code",
   "execution_count": 5,
   "metadata": {},
   "outputs": [
    {
     "name": "stdout",
     "output_type": "stream",
     "text": [
      "0.4642857142857143\n"
     ]
    }
   ],
   "source": [
    "print(acc)"
   ]
  },
  {
   "cell_type": "code",
   "execution_count": null,
   "metadata": {},
   "outputs": [],
   "source": [
    "#proximity forest \n",
    "acc= concatenateMethodTake2(2, X[[\"dim_0\", \"dim_1\"]], y, 0.8)\n",
    "print(acc)"
   ]
  },
  {
   "cell_type": "code",
   "execution_count": 3,
   "metadata": {},
   "outputs": [],
   "source": [
    "import time \n",
    "def main():\n",
    "    # this is where method selection will take place and the configuration files will be parsed \n",
    "    #numbers of models to run \n",
    "    start_time=time.time()\n",
    "    print(\"hello\")\n",
    "    end_time= time.time() -start_time\n",
    "    print(end_time)"
   ]
  },
  {
   "cell_type": "code",
   "execution_count": 4,
   "metadata": {},
   "outputs": [
    {
     "name": "stdout",
     "output_type": "stream",
     "text": [
      "hello\n",
      "0.0003101825714111328\n"
     ]
    }
   ],
   "source": [
    "main()"
   ]
  },
  {
   "cell_type": "code",
   "execution_count": 2,
   "metadata": {},
   "outputs": [],
   "source": [
    "df_example=reformatData(\"event\", \"../scripts/data/sample - Sheet1.csv\")"
   ]
  },
  {
   "cell_type": "code",
   "execution_count": 3,
   "metadata": {},
   "outputs": [
    {
     "data": {
      "text/html": [
       "<div>\n",
       "<style scoped>\n",
       "    .dataframe tbody tr th:only-of-type {\n",
       "        vertical-align: middle;\n",
       "    }\n",
       "\n",
       "    .dataframe tbody tr th {\n",
       "        vertical-align: top;\n",
       "    }\n",
       "\n",
       "    .dataframe thead th {\n",
       "        text-align: right;\n",
       "    }\n",
       "</style>\n",
       "<table border=\"1\" class=\"dataframe\">\n",
       "  <thead>\n",
       "    <tr style=\"text-align: right;\">\n",
       "      <th></th>\n",
       "      <th>dim_0</th>\n",
       "      <th>dim_1</th>\n",
       "    </tr>\n",
       "  </thead>\n",
       "  <tbody>\n",
       "    <tr>\n",
       "      <th>0</th>\n",
       "      <td>1    17061.4316\n",
       "2    17151.1680\n",
       "3    16959.822...</td>\n",
       "      <td>1    237.3560\n",
       "2    239.0465\n",
       "3    235.9601\n",
       "dtyp...</td>\n",
       "    </tr>\n",
       "    <tr>\n",
       "      <th>1</th>\n",
       "      <td>1    16602.2031\n",
       "2    16672.1426\n",
       "3    16736.804...</td>\n",
       "      <td>1    230.1286\n",
       "2    229.4772\n",
       "3    230.6559\n",
       "dtyp...</td>\n",
       "    </tr>\n",
       "    <tr>\n",
       "      <th>2</th>\n",
       "      <td>1    15789.3135\n",
       "2    15728.6113\n",
       "3    15714.095...</td>\n",
       "      <td>1    217.1239\n",
       "2    216.0460\n",
       "3    215.5575\n",
       "dtyp...</td>\n",
       "    </tr>\n",
       "    <tr>\n",
       "      <th>3</th>\n",
       "      <td>1    17371.5449\n",
       "2    17454.6816\n",
       "3    17400.576...</td>\n",
       "      <td>1    242.5206\n",
       "2    244.0870\n",
       "3    242.1639\n",
       "dtyp...</td>\n",
       "    </tr>\n",
       "    <tr>\n",
       "      <th>4</th>\n",
       "      <td>1    16228.7490\n",
       "2    16249.8633\n",
       "3    16261.739...</td>\n",
       "      <td>1    223.5448\n",
       "2    224.1264\n",
       "3    225.2896\n",
       "dtyp...</td>\n",
       "    </tr>\n",
       "  </tbody>\n",
       "</table>\n",
       "</div>"
      ],
      "text/plain": [
       "                                               dim_0  \\\n",
       "0  1    17061.4316\n",
       "2    17151.1680\n",
       "3    16959.822...   \n",
       "1  1    16602.2031\n",
       "2    16672.1426\n",
       "3    16736.804...   \n",
       "2  1    15789.3135\n",
       "2    15728.6113\n",
       "3    15714.095...   \n",
       "3  1    17371.5449\n",
       "2    17454.6816\n",
       "3    17400.576...   \n",
       "4  1    16228.7490\n",
       "2    16249.8633\n",
       "3    16261.739...   \n",
       "\n",
       "                                               dim_1  \n",
       "0  1    237.3560\n",
       "2    239.0465\n",
       "3    235.9601\n",
       "dtyp...  \n",
       "1  1    230.1286\n",
       "2    229.4772\n",
       "3    230.6559\n",
       "dtyp...  \n",
       "2  1    217.1239\n",
       "2    216.0460\n",
       "3    215.5575\n",
       "dtyp...  \n",
       "3  1    242.5206\n",
       "2    244.0870\n",
       "3    242.1639\n",
       "dtyp...  \n",
       "4  1    223.5448\n",
       "2    224.1264\n",
       "3    225.2896\n",
       "dtyp...  "
      ]
     },
     "execution_count": 3,
     "metadata": {},
     "output_type": "execute_result"
    }
   ],
   "source": [
    "df_example[0]"
   ]
  },
  {
   "cell_type": "code",
   "execution_count": 4,
   "metadata": {},
   "outputs": [],
   "source": [
    "df_example[0].to_csv('example.csv')"
   ]
  },
  {
   "cell_type": "code",
   "execution_count": 5,
   "metadata": {},
   "outputs": [
    {
     "data": {
      "text/plain": [
       "array(['100 0-Back', '100 0-Back', '100 0-Back', '102 2-Back',\n",
       "       '102 2-Back'], dtype='<U10')"
      ]
     },
     "execution_count": 5,
     "metadata": {},
     "output_type": "execute_result"
    }
   ],
   "source": [
    "df_example[1]"
   ]
  },
  {
   "cell_type": "code",
   "execution_count": 15,
   "metadata": {},
   "outputs": [],
   "source": [
    "target='event'\n",
    "file_name=\"../scripts/data/sample-Sheet1.csv\"\n",
    "X, y=reformatData(target,file_name)\n",
    "percent_train=0.8\n",
    "should_profile=True  "
   ]
  },
  {
   "cell_type": "code",
   "execution_count": 16,
   "metadata": {},
   "outputs": [
    {
     "name": "stdout",
     "output_type": "stream",
     "text": [
      "<bound method NDFrame.head of                                                    0\n",
      "0  0    17061.4316\n",
      "1    17151.1680\n",
      "2    16959.822...\n",
      "3  0    17371.5449\n",
      "1    17454.6816\n",
      "2    17400.576...>\n"
     ]
    }
   ],
   "source": [
    "acc= concatenateMethodTake2(0, X, y, 0.5)\n"
   ]
  },
  {
   "cell_type": "code",
   "execution_count": 5,
   "metadata": {},
   "outputs": [
    {
     "data": {
      "text/html": [
       "<div>\n",
       "<style scoped>\n",
       "    .dataframe tbody tr th:only-of-type {\n",
       "        vertical-align: middle;\n",
       "    }\n",
       "\n",
       "    .dataframe tbody tr th {\n",
       "        vertical-align: top;\n",
       "    }\n",
       "\n",
       "    .dataframe thead th {\n",
       "        text-align: right;\n",
       "    }\n",
       "</style>\n",
       "<table border=\"1\" class=\"dataframe\">\n",
       "  <thead>\n",
       "    <tr style=\"text-align: right;\">\n",
       "      <th></th>\n",
       "      <th>dim_0</th>\n",
       "      <th>dim_1</th>\n",
       "      <th>dim_2</th>\n",
       "      <th>dim_3</th>\n",
       "    </tr>\n",
       "  </thead>\n",
       "  <tbody>\n",
       "    <tr>\n",
       "      <th>0</th>\n",
       "      <td>1     17704.0\n",
       "1     17704.0\n",
       "2     17708.0\n",
       "2   ...</td>\n",
       "      <td>1     724.17\n",
       "1     724.17\n",
       "2     709.00\n",
       "2     7...</td>\n",
       "      <td>1     563.08\n",
       "1     563.08\n",
       "2     543.23\n",
       "2     5...</td>\n",
       "      <td>1     733.02\n",
       "1     733.02\n",
       "2     705.25\n",
       "2     7...</td>\n",
       "    </tr>\n",
       "    <tr>\n",
       "      <th>1</th>\n",
       "      <td>1     17411.0\n",
       "2     17389.0\n",
       "3     17370.0\n",
       "4   ...</td>\n",
       "      <td>1     653.30\n",
       "2     654.84\n",
       "3     655.12\n",
       "4     6...</td>\n",
       "      <td>1     504.03\n",
       "2     503.39\n",
       "3     508.28\n",
       "4     5...</td>\n",
       "      <td>1     647.41\n",
       "2     648.74\n",
       "3     666.83\n",
       "4     6...</td>\n",
       "    </tr>\n",
       "    <tr>\n",
       "      <th>2</th>\n",
       "      <td>1     17372.0\n",
       "2     17327.0\n",
       "3     17378.0\n",
       "4   ...</td>\n",
       "      <td>1     662.74\n",
       "2     669.08\n",
       "3     674.09\n",
       "4     6...</td>\n",
       "      <td>1     507.31\n",
       "2     512.35\n",
       "3     522.21\n",
       "4     5...</td>\n",
       "      <td>1     655.47\n",
       "2     669.55\n",
       "3     681.86\n",
       "4     6...</td>\n",
       "    </tr>\n",
       "    <tr>\n",
       "      <th>3</th>\n",
       "      <td>1     17714.0\n",
       "2     17695.0\n",
       "3     17685.0\n",
       "4   ...</td>\n",
       "      <td>1     696.93\n",
       "2     685.00\n",
       "3     680.29\n",
       "4     6...</td>\n",
       "      <td>1     538.50\n",
       "2     525.55\n",
       "3     519.31\n",
       "4     5...</td>\n",
       "      <td>1     708.33\n",
       "2     678.80\n",
       "3     670.97\n",
       "4     6...</td>\n",
       "    </tr>\n",
       "    <tr>\n",
       "      <th>4</th>\n",
       "      <td>1     17745.0\n",
       "2     17799.0\n",
       "3     17832.0\n",
       "4   ...</td>\n",
       "      <td>1     672.09\n",
       "2     680.27\n",
       "3     692.16\n",
       "4     6...</td>\n",
       "      <td>1     525.06\n",
       "2     535.19\n",
       "3     541.90\n",
       "4     5...</td>\n",
       "      <td>1     680.61\n",
       "2     699.67\n",
       "3     712.89\n",
       "4     7...</td>\n",
       "    </tr>\n",
       "  </tbody>\n",
       "</table>\n",
       "</div>"
      ],
      "text/plain": [
       "                                               dim_0  \\\n",
       "0  1     17704.0\n",
       "1     17704.0\n",
       "2     17708.0\n",
       "2   ...   \n",
       "1  1     17411.0\n",
       "2     17389.0\n",
       "3     17370.0\n",
       "4   ...   \n",
       "2  1     17372.0\n",
       "2     17327.0\n",
       "3     17378.0\n",
       "4   ...   \n",
       "3  1     17714.0\n",
       "2     17695.0\n",
       "3     17685.0\n",
       "4   ...   \n",
       "4  1     17745.0\n",
       "2     17799.0\n",
       "3     17832.0\n",
       "4   ...   \n",
       "\n",
       "                                               dim_1  \\\n",
       "0  1     724.17\n",
       "1     724.17\n",
       "2     709.00\n",
       "2     7...   \n",
       "1  1     653.30\n",
       "2     654.84\n",
       "3     655.12\n",
       "4     6...   \n",
       "2  1     662.74\n",
       "2     669.08\n",
       "3     674.09\n",
       "4     6...   \n",
       "3  1     696.93\n",
       "2     685.00\n",
       "3     680.29\n",
       "4     6...   \n",
       "4  1     672.09\n",
       "2     680.27\n",
       "3     692.16\n",
       "4     6...   \n",
       "\n",
       "                                               dim_2  \\\n",
       "0  1     563.08\n",
       "1     563.08\n",
       "2     543.23\n",
       "2     5...   \n",
       "1  1     504.03\n",
       "2     503.39\n",
       "3     508.28\n",
       "4     5...   \n",
       "2  1     507.31\n",
       "2     512.35\n",
       "3     522.21\n",
       "4     5...   \n",
       "3  1     538.50\n",
       "2     525.55\n",
       "3     519.31\n",
       "4     5...   \n",
       "4  1     525.06\n",
       "2     535.19\n",
       "3     541.90\n",
       "4     5...   \n",
       "\n",
       "                                               dim_3  \n",
       "0  1     733.02\n",
       "1     733.02\n",
       "2     705.25\n",
       "2     7...  \n",
       "1  1     647.41\n",
       "2     648.74\n",
       "3     666.83\n",
       "4     6...  \n",
       "2  1     655.47\n",
       "2     669.55\n",
       "3     681.86\n",
       "4     6...  \n",
       "3  1     708.33\n",
       "2     678.80\n",
       "3     670.97\n",
       "4     6...  \n",
       "4  1     680.61\n",
       "2     699.67\n",
       "3     712.89\n",
       "4     7...  "
      ]
     },
     "execution_count": 5,
     "metadata": {},
     "output_type": "execute_result"
    }
   ],
   "source": [
    "X.head()"
   ]
  },
  {
   "cell_type": "code",
   "execution_count": 7,
   "metadata": {},
   "outputs": [
    {
     "data": {
      "text/plain": [
       "(175, 4)"
      ]
     },
     "execution_count": 7,
     "metadata": {},
     "output_type": "execute_result"
    }
   ],
   "source": [
    "X.shape"
   ]
  },
  {
   "cell_type": "code",
   "execution_count": 13,
   "metadata": {},
   "outputs": [
    {
     "data": {
      "text/plain": [
       "0.5"
      ]
     },
     "execution_count": 13,
     "metadata": {},
     "output_type": "execute_result"
    }
   ],
   "source": [
    "acc"
   ]
  },
  {
   "cell_type": "code",
   "execution_count": null,
   "metadata": {},
   "outputs": [],
   "source": []
  },
  {
   "cell_type": "code",
   "execution_count": null,
   "metadata": {},
   "outputs": [],
   "source": []
  }
 ],
 "metadata": {
  "kernelspec": {
   "display_name": "Python 3",
   "language": "python",
   "name": "python3"
  },
  "language_info": {
   "codemirror_mode": {
    "name": "ipython",
    "version": 3
   },
   "file_extension": ".py",
   "mimetype": "text/x-python",
   "name": "python",
   "nbconvert_exporter": "python",
   "pygments_lexer": "ipython3",
   "version": "3.7.4"
  }
 },
 "nbformat": 4,
 "nbformat_minor": 2
}
