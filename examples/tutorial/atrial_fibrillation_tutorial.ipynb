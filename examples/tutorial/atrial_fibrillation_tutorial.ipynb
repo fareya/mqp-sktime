{
 "cells": [
  {
   "cell_type": "code",
   "execution_count": 1,
   "metadata": {},
   "outputs": [],
   "source": [
    "# import library \n",
    "import sktime \n",
    "import numpy as np\n",
    "from sktime.utils.load_data import load_from_arff_to_dataframe"
   ]
  },
  {
   "cell_type": "code",
   "execution_count": 2,
   "metadata": {},
   "outputs": [],
   "source": [
    "#retrieve X and ytrain from the .arff files \n",
    "#this assumes that you unzipped the file in the same folder as this .ipynb file \n",
    "#in the case below this .ipynb and the AtrialFibrillation folder are stored in the the folder \"examples\"\n",
    "#this load function returns two things \n",
    "    #1) Pandas Dataframe storing data \n",
    "    #2) Numpy array of corresponding labels (these could be categories that you would like to classify this into)\n",
    "    \n",
    "Xtrain, ytrain = load_from_arff_to_dataframe(\"../examples/AtrialFibrillation/AtrialFibrillation_TRAIN.arff\")"
   ]
  },
  {
   "cell_type": "code",
   "execution_count": 3,
   "metadata": {},
   "outputs": [
    {
     "data": {
      "text/html": [
       "<div>\n",
       "<style scoped>\n",
       "    .dataframe tbody tr th:only-of-type {\n",
       "        vertical-align: middle;\n",
       "    }\n",
       "\n",
       "    .dataframe tbody tr th {\n",
       "        vertical-align: top;\n",
       "    }\n",
       "\n",
       "    .dataframe thead th {\n",
       "        text-align: right;\n",
       "    }\n",
       "</style>\n",
       "<table border=\"1\" class=\"dataframe\">\n",
       "  <thead>\n",
       "    <tr style=\"text-align: right;\">\n",
       "      <th></th>\n",
       "      <th>dim_0</th>\n",
       "      <th>dim_1</th>\n",
       "    </tr>\n",
       "  </thead>\n",
       "  <tbody>\n",
       "    <tr>\n",
       "      <th>0</th>\n",
       "      <td>0     -0.34086\n",
       "1     -0.38038\n",
       "2     -0.34580\n",
       "3...</td>\n",
       "      <td>0      0.14820\n",
       "1      0.13338\n",
       "2      0.10868\n",
       "3...</td>\n",
       "    </tr>\n",
       "    <tr>\n",
       "      <th>1</th>\n",
       "      <td>0     -0.11362\n",
       "1     -0.07410\n",
       "2     -0.05928\n",
       "3...</td>\n",
       "      <td>0     -0.00988\n",
       "1     -0.02470\n",
       "2     -0.00494\n",
       "3...</td>\n",
       "    </tr>\n",
       "    <tr>\n",
       "      <th>2</th>\n",
       "      <td>0     -0.2079\n",
       "1     -0.1683\n",
       "2     -0.1980\n",
       "3   ...</td>\n",
       "      <td>0     -0.02632\n",
       "1     -0.04606\n",
       "2     -0.08554\n",
       "3...</td>\n",
       "    </tr>\n",
       "    <tr>\n",
       "      <th>3</th>\n",
       "      <td>0     -0.11805\n",
       "1     -0.08657\n",
       "2     -0.09444\n",
       "3...</td>\n",
       "      <td>0      0.03510\n",
       "1      0.04680\n",
       "2      0.06435\n",
       "3...</td>\n",
       "    </tr>\n",
       "    <tr>\n",
       "      <th>4</th>\n",
       "      <td>0     -0.11362\n",
       "1     -0.06422\n",
       "2     -0.05928\n",
       "3...</td>\n",
       "      <td>0     -0.04940\n",
       "1      0.01482\n",
       "2      0.03952\n",
       "3...</td>\n",
       "    </tr>\n",
       "  </tbody>\n",
       "</table>\n",
       "</div>"
      ],
      "text/plain": [
       "                                               dim_0  \\\n",
       "0  0     -0.34086\n",
       "1     -0.38038\n",
       "2     -0.34580\n",
       "3...   \n",
       "1  0     -0.11362\n",
       "1     -0.07410\n",
       "2     -0.05928\n",
       "3...   \n",
       "2  0     -0.2079\n",
       "1     -0.1683\n",
       "2     -0.1980\n",
       "3   ...   \n",
       "3  0     -0.11805\n",
       "1     -0.08657\n",
       "2     -0.09444\n",
       "3...   \n",
       "4  0     -0.11362\n",
       "1     -0.06422\n",
       "2     -0.05928\n",
       "3...   \n",
       "\n",
       "                                               dim_1  \n",
       "0  0      0.14820\n",
       "1      0.13338\n",
       "2      0.10868\n",
       "3...  \n",
       "1  0     -0.00988\n",
       "1     -0.02470\n",
       "2     -0.00494\n",
       "3...  \n",
       "2  0     -0.02632\n",
       "1     -0.04606\n",
       "2     -0.08554\n",
       "3...  \n",
       "3  0      0.03510\n",
       "1      0.04680\n",
       "2      0.06435\n",
       "3...  \n",
       "4  0     -0.04940\n",
       "1      0.01482\n",
       "2      0.03952\n",
       "3...  "
      ]
     },
     "execution_count": 3,
     "metadata": {},
     "output_type": "execute_result"
    }
   ],
   "source": [
    "# view the first five data points in the dataframe\n",
    "Xtrain.head()"
   ]
  },
  {
   "cell_type": "code",
   "execution_count": 4,
   "metadata": {
    "scrolled": true
   },
   "outputs": [
    {
     "data": {
      "text/html": [
       "<div>\n",
       "<style scoped>\n",
       "    .dataframe tbody tr th:only-of-type {\n",
       "        vertical-align: middle;\n",
       "    }\n",
       "\n",
       "    .dataframe tbody tr th {\n",
       "        vertical-align: top;\n",
       "    }\n",
       "\n",
       "    .dataframe thead th {\n",
       "        text-align: right;\n",
       "    }\n",
       "</style>\n",
       "<table border=\"1\" class=\"dataframe\">\n",
       "  <thead>\n",
       "    <tr style=\"text-align: right;\">\n",
       "      <th></th>\n",
       "      <th>dim_0</th>\n",
       "      <th>dim_1</th>\n",
       "    </tr>\n",
       "  </thead>\n",
       "  <tbody>\n",
       "    <tr>\n",
       "      <th>count</th>\n",
       "      <td>15</td>\n",
       "      <td>15</td>\n",
       "    </tr>\n",
       "    <tr>\n",
       "      <th>unique</th>\n",
       "      <td>15</td>\n",
       "      <td>15</td>\n",
       "    </tr>\n",
       "    <tr>\n",
       "      <th>top</th>\n",
       "      <td>0      0.07686\n",
       "1      0.06588\n",
       "2      0.02196\n",
       "3...</td>\n",
       "      <td>0      0.13090\n",
       "1      0.13090\n",
       "2      0.09520\n",
       "3...</td>\n",
       "    </tr>\n",
       "    <tr>\n",
       "      <th>freq</th>\n",
       "      <td>1</td>\n",
       "      <td>1</td>\n",
       "    </tr>\n",
       "  </tbody>\n",
       "</table>\n",
       "</div>"
      ],
      "text/plain": [
       "                                                    dim_0  \\\n",
       "count                                                  15   \n",
       "unique                                                 15   \n",
       "top     0      0.07686\n",
       "1      0.06588\n",
       "2      0.02196\n",
       "3...   \n",
       "freq                                                    1   \n",
       "\n",
       "                                                    dim_1  \n",
       "count                                                  15  \n",
       "unique                                                 15  \n",
       "top     0      0.13090\n",
       "1      0.13090\n",
       "2      0.09520\n",
       "3...  \n",
       "freq                                                    1  "
      ]
     },
     "execution_count": 4,
     "metadata": {},
     "output_type": "execute_result"
    }
   ],
   "source": [
    "# get a brief description of of the data \n",
    "Xtrain.describe()"
   ]
  },
  {
   "cell_type": "code",
   "execution_count": 5,
   "metadata": {},
   "outputs": [
    {
     "data": {
      "text/plain": [
       "array(['n', 's', 't'], dtype='<U1')"
      ]
     },
     "execution_count": 5,
     "metadata": {},
     "output_type": "execute_result"
    }
   ],
   "source": [
    "# this function will allow you to see the distinct classes within the np array \n",
    "np.unique(ytrain)"
   ]
  },
  {
   "cell_type": "code",
   "execution_count": 6,
   "metadata": {},
   "outputs": [
    {
     "data": {
      "text/plain": [
       "(15,)"
      ]
     },
     "execution_count": 6,
     "metadata": {},
     "output_type": "execute_result"
    }
   ],
   "source": [
    "# you can also view the shape of this array by doing the following \n",
    "# note that the count of labels corresponds to the rows in the dataframe \n",
    "ytrain.shape"
   ]
  },
  {
   "cell_type": "code",
   "execution_count": 7,
   "metadata": {},
   "outputs": [],
   "source": [
    "Xtest,ytest = load_from_arff_to_dataframe(\"../examples/AtrialFibrillation/AtrialFibrillation_TEST.arff\")"
   ]
  },
  {
   "cell_type": "code",
   "execution_count": 8,
   "metadata": {},
   "outputs": [
    {
     "data": {
      "text/plain": [
       "0.4"
      ]
     },
     "execution_count": 8,
     "metadata": {},
     "output_type": "execute_result"
    }
   ],
   "source": [
    "# the first method we can use is concatenation method\n",
    "# this concatenates the the multivariate series into a univariate series \n",
    "# then you specify a univariarte classifier  \n",
    "\n",
    "from sktime.transformers.compose import ColumnConcatenator\n",
    "from sktime.classifiers.compose import TimeSeriesForestClassifier\n",
    "from sktime.pipeline import Pipeline\n",
    "\n",
    "steps_concat = [\n",
    "    ('concatenate', ColumnConcatenator()),\n",
    "    ('classify', TimeSeriesForestClassifier(n_estimators=100))]\n",
    "clf_concat = Pipeline(steps_concat)\n",
    "clf_concat.fit(Xtrain, ytrain)\n",
    "clf_concat.score(Xtest, ytest)"
   ]
  },
  {
   "cell_type": "code",
   "execution_count": 9,
   "metadata": {},
   "outputs": [
    {
     "data": {
      "text/plain": [
       "0.3333333333333333"
      ]
     },
     "execution_count": 9,
     "metadata": {},
     "output_type": "execute_result"
    }
   ],
   "source": [
    "from sktime.classifiers.distance_based import KNeighborsTimeSeriesClassifier\n",
    "steps_concat = [\n",
    "    ('concatenate', ColumnConcatenator()),\n",
    "    ('classify', KNeighborsTimeSeriesClassifier(metric='dtw'))]\n",
    "clf_concat = Pipeline(steps_concat)\n",
    "clf_concat.fit(Xtrain, ytrain)\n",
    "clf_concat.score(Xtest, ytest)\n"
   ]
  },
  {
   "cell_type": "code",
   "execution_count": 47,
   "metadata": {},
   "outputs": [
    {
     "data": {
      "text/plain": [
       "0.2"
      ]
     },
     "execution_count": 47,
     "metadata": {},
     "output_type": "execute_result"
    }
   ],
   "source": [
    "from sktime.classifiers.shapelet_based import ShapeletTransformClassifier\n",
    "\n",
    "clf_shapelet = ShapeletTransformClassifier(time_contract_in_mins=0.7)\n",
    "clf_shapelet.fit(Xtrain, ytrain)\n",
    "clf_shapelet.score(Xtest, ytest)"
   ]
  },
  {
   "cell_type": "code",
   "execution_count": 41,
   "metadata": {},
   "outputs": [
    {
     "data": {
      "text/html": [
       "<div>\n",
       "<style scoped>\n",
       "    .dataframe tbody tr th:only-of-type {\n",
       "        vertical-align: middle;\n",
       "    }\n",
       "\n",
       "    .dataframe tbody tr th {\n",
       "        vertical-align: top;\n",
       "    }\n",
       "\n",
       "    .dataframe thead th {\n",
       "        text-align: right;\n",
       "    }\n",
       "</style>\n",
       "<table border=\"1\" class=\"dataframe\">\n",
       "  <thead>\n",
       "    <tr style=\"text-align: right;\">\n",
       "      <th></th>\n",
       "      <th>dim_0</th>\n",
       "      <th>dim_1</th>\n",
       "    </tr>\n",
       "  </thead>\n",
       "  <tbody>\n",
       "    <tr>\n",
       "      <th>0</th>\n",
       "      <td>0     -0.34086\n",
       "1     -0.38038\n",
       "2     -0.34580\n",
       "3...</td>\n",
       "      <td>0      0.14820\n",
       "1      0.13338\n",
       "2      0.10868\n",
       "3...</td>\n",
       "    </tr>\n",
       "    <tr>\n",
       "      <th>1</th>\n",
       "      <td>0     -0.11362\n",
       "1     -0.07410\n",
       "2     -0.05928\n",
       "3...</td>\n",
       "      <td>0     -0.00988\n",
       "1     -0.02470\n",
       "2     -0.00494\n",
       "3...</td>\n",
       "    </tr>\n",
       "    <tr>\n",
       "      <th>2</th>\n",
       "      <td>0     -0.2079\n",
       "1     -0.1683\n",
       "2     -0.1980\n",
       "3   ...</td>\n",
       "      <td>0     -0.02632\n",
       "1     -0.04606\n",
       "2     -0.08554\n",
       "3...</td>\n",
       "    </tr>\n",
       "    <tr>\n",
       "      <th>3</th>\n",
       "      <td>0     -0.11805\n",
       "1     -0.08657\n",
       "2     -0.09444\n",
       "3...</td>\n",
       "      <td>0      0.03510\n",
       "1      0.04680\n",
       "2      0.06435\n",
       "3...</td>\n",
       "    </tr>\n",
       "    <tr>\n",
       "      <th>4</th>\n",
       "      <td>0     -0.11362\n",
       "1     -0.06422\n",
       "2     -0.05928\n",
       "3...</td>\n",
       "      <td>0     -0.04940\n",
       "1      0.01482\n",
       "2      0.03952\n",
       "3...</td>\n",
       "    </tr>\n",
       "  </tbody>\n",
       "</table>\n",
       "</div>"
      ],
      "text/plain": [
       "                                               dim_0  \\\n",
       "0  0     -0.34086\n",
       "1     -0.38038\n",
       "2     -0.34580\n",
       "3...   \n",
       "1  0     -0.11362\n",
       "1     -0.07410\n",
       "2     -0.05928\n",
       "3...   \n",
       "2  0     -0.2079\n",
       "1     -0.1683\n",
       "2     -0.1980\n",
       "3   ...   \n",
       "3  0     -0.11805\n",
       "1     -0.08657\n",
       "2     -0.09444\n",
       "3...   \n",
       "4  0     -0.11362\n",
       "1     -0.06422\n",
       "2     -0.05928\n",
       "3...   \n",
       "\n",
       "                                               dim_1  \n",
       "0  0      0.14820\n",
       "1      0.13338\n",
       "2      0.10868\n",
       "3...  \n",
       "1  0     -0.00988\n",
       "1     -0.02470\n",
       "2     -0.00494\n",
       "3...  \n",
       "2  0     -0.02632\n",
       "1     -0.04606\n",
       "2     -0.08554\n",
       "3...  \n",
       "3  0      0.03510\n",
       "1      0.04680\n",
       "2      0.06435\n",
       "3...  \n",
       "4  0     -0.04940\n",
       "1      0.01482\n",
       "2      0.03952\n",
       "3...  "
      ]
     },
     "execution_count": 41,
     "metadata": {},
     "output_type": "execute_result"
    }
   ],
   "source": [
    "Xtrain.head()"
   ]
  },
  {
   "cell_type": "code",
   "execution_count": 43,
   "metadata": {},
   "outputs": [
    {
     "data": {
      "text/plain": [
       "array(['n', 'n', 'n', 'n', 'n', 's', 's', 's', 's', 's', 't', 't', 't',\n",
       "       't', 't'], dtype='<U1')"
      ]
     },
     "execution_count": 43,
     "metadata": {},
     "output_type": "execute_result"
    }
   ],
   "source": [
    "ytrain"
   ]
  },
  {
   "cell_type": "code",
   "execution_count": null,
   "metadata": {},
   "outputs": [],
   "source": []
  }
 ],
 "metadata": {
  "kernelspec": {
   "display_name": "Python 3",
   "language": "python",
   "name": "python3"
  },
  "language_info": {
   "codemirror_mode": {
    "name": "ipython",
    "version": 3
   },
   "file_extension": ".py",
   "mimetype": "text/x-python",
   "name": "python",
   "nbconvert_exporter": "python",
   "pygments_lexer": "ipython3",
   "version": "3.7.4"
  }
 },
 "nbformat": 4,
 "nbformat_minor": 2
}
