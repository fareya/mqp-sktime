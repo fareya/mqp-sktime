{
 "cells": [
  {
   "cell_type": "markdown",
   "metadata": {},
   "source": [
    "## Background on data set \n",
    "\tShort duration ECG signals are recorded from a healthy 25-year-old male performing different physical activities to study the effect of motion artifacts on ECG signals and their sparsity. The raw data was sampled at: 500 Hz, with a resolution of 16 bits before an analogue gain of 100 and ADC was applied. A Spectrogram of each instance was then created with a window size of 0.061 seconds and an overlap of 70%. Each instance in this multivariate dataset is arranged such that each dimension is a frequency band from the spectrogram."
   ]
  },
  {
   "cell_type": "code",
   "execution_count": 8,
   "metadata": {},
   "outputs": [],
   "source": [
    "#Tutorial\n",
    "#chosen dataset is ECG \n",
    "# impoert the basic libraries \n",
    "import numpy as np\n",
    "import pandas as pd"
   ]
  },
  {
   "cell_type": "code",
   "execution_count": 3,
   "metadata": {},
   "outputs": [],
   "source": [
    "from sktime.utils.load_data import load_from_arff_to_dataframe\n",
    "\n",
    "#combined dataset \n",
    "Xtrain, ytrain = load_from_arff_to_dataframe(\"../sktime-notebooks/data/Multivariate2018_arff/Multivariate_arff/StandWalkJump/StandWalkJump_TRAIN.arff\")\n",
    "Xtest, ytest = load_from_arff_to_dataframe(\"../sktime-notebooks/data/Multivariate2018_arff/Multivariate_arff/StandWalkJump/StandWalkJump_TEST.arff\")\n"
   ]
  },
  {
   "cell_type": "code",
   "execution_count": 4,
   "metadata": {},
   "outputs": [
    {
     "data": {
      "text/html": [
       "<div>\n",
       "<style scoped>\n",
       "    .dataframe tbody tr th:only-of-type {\n",
       "        vertical-align: middle;\n",
       "    }\n",
       "\n",
       "    .dataframe tbody tr th {\n",
       "        vertical-align: top;\n",
       "    }\n",
       "\n",
       "    .dataframe thead th {\n",
       "        text-align: right;\n",
       "    }\n",
       "</style>\n",
       "<table border=\"1\" class=\"dataframe\">\n",
       "  <thead>\n",
       "    <tr style=\"text-align: right;\">\n",
       "      <th></th>\n",
       "      <th>dim_0</th>\n",
       "      <th>dim_1</th>\n",
       "      <th>dim_2</th>\n",
       "      <th>dim_3</th>\n",
       "    </tr>\n",
       "  </thead>\n",
       "  <tbody>\n",
       "    <tr>\n",
       "      <th>0</th>\n",
       "      <td>0      -0.28\n",
       "1      -0.28\n",
       "2      -0.27\n",
       "3      ...</td>\n",
       "      <td>0      -0.11\n",
       "1      -0.11\n",
       "2      -0.11\n",
       "3      ...</td>\n",
       "      <td>0       0.41\n",
       "1       0.42\n",
       "2       0.43\n",
       "3      ...</td>\n",
       "      <td>0       0.59\n",
       "1       0.59\n",
       "2       0.58\n",
       "3      ...</td>\n",
       "    </tr>\n",
       "    <tr>\n",
       "      <th>1</th>\n",
       "      <td>0      -0.13\n",
       "1      -0.10\n",
       "2      -0.09\n",
       "3      ...</td>\n",
       "      <td>0      -0.09\n",
       "1      -0.09\n",
       "2      -0.07\n",
       "3      ...</td>\n",
       "      <td>0       0.05\n",
       "1       0.08\n",
       "2       0.11\n",
       "3      ...</td>\n",
       "      <td>0      -0.15\n",
       "1      -0.09\n",
       "2      -0.07\n",
       "3      ...</td>\n",
       "    </tr>\n",
       "    <tr>\n",
       "      <th>2</th>\n",
       "      <td>0      -0.01\n",
       "1      -0.01\n",
       "2      -0.02\n",
       "3      ...</td>\n",
       "      <td>0       0.13\n",
       "1       0.13\n",
       "2       0.15\n",
       "3      ...</td>\n",
       "      <td>0      -0.11\n",
       "1      -0.10\n",
       "2      -0.11\n",
       "3      ...</td>\n",
       "      <td>0      -0.07\n",
       "1      -0.06\n",
       "2      -0.07\n",
       "3      ...</td>\n",
       "    </tr>\n",
       "    <tr>\n",
       "      <th>3</th>\n",
       "      <td>0      -0.44\n",
       "1      -0.47\n",
       "2      -0.49\n",
       "3      ...</td>\n",
       "      <td>0       0.05\n",
       "1       0.05\n",
       "2       0.05\n",
       "3      ...</td>\n",
       "      <td>0       0.46\n",
       "1       0.46\n",
       "2       0.46\n",
       "3      ...</td>\n",
       "      <td>0      -0.73\n",
       "1      -0.73\n",
       "2      -0.74\n",
       "3      ...</td>\n",
       "    </tr>\n",
       "    <tr>\n",
       "      <th>4</th>\n",
       "      <td>0      -0.06\n",
       "1      -0.06\n",
       "2      -0.07\n",
       "3      ...</td>\n",
       "      <td>0       0.00\n",
       "1       0.00\n",
       "2       0.00\n",
       "3      ...</td>\n",
       "      <td>0       0.08\n",
       "1       0.08\n",
       "2       0.08\n",
       "3      ...</td>\n",
       "      <td>0       0.18\n",
       "1       0.18\n",
       "2       0.18\n",
       "3      ...</td>\n",
       "    </tr>\n",
       "  </tbody>\n",
       "</table>\n",
       "</div>"
      ],
      "text/plain": [
       "                                               dim_0  \\\n",
       "0  0      -0.28\n",
       "1      -0.28\n",
       "2      -0.27\n",
       "3      ...   \n",
       "1  0      -0.13\n",
       "1      -0.10\n",
       "2      -0.09\n",
       "3      ...   \n",
       "2  0      -0.01\n",
       "1      -0.01\n",
       "2      -0.02\n",
       "3      ...   \n",
       "3  0      -0.44\n",
       "1      -0.47\n",
       "2      -0.49\n",
       "3      ...   \n",
       "4  0      -0.06\n",
       "1      -0.06\n",
       "2      -0.07\n",
       "3      ...   \n",
       "\n",
       "                                               dim_1  \\\n",
       "0  0      -0.11\n",
       "1      -0.11\n",
       "2      -0.11\n",
       "3      ...   \n",
       "1  0      -0.09\n",
       "1      -0.09\n",
       "2      -0.07\n",
       "3      ...   \n",
       "2  0       0.13\n",
       "1       0.13\n",
       "2       0.15\n",
       "3      ...   \n",
       "3  0       0.05\n",
       "1       0.05\n",
       "2       0.05\n",
       "3      ...   \n",
       "4  0       0.00\n",
       "1       0.00\n",
       "2       0.00\n",
       "3      ...   \n",
       "\n",
       "                                               dim_2  \\\n",
       "0  0       0.41\n",
       "1       0.42\n",
       "2       0.43\n",
       "3      ...   \n",
       "1  0       0.05\n",
       "1       0.08\n",
       "2       0.11\n",
       "3      ...   \n",
       "2  0      -0.11\n",
       "1      -0.10\n",
       "2      -0.11\n",
       "3      ...   \n",
       "3  0       0.46\n",
       "1       0.46\n",
       "2       0.46\n",
       "3      ...   \n",
       "4  0       0.08\n",
       "1       0.08\n",
       "2       0.08\n",
       "3      ...   \n",
       "\n",
       "                                               dim_3  \n",
       "0  0       0.59\n",
       "1       0.59\n",
       "2       0.58\n",
       "3      ...  \n",
       "1  0      -0.15\n",
       "1      -0.09\n",
       "2      -0.07\n",
       "3      ...  \n",
       "2  0      -0.07\n",
       "1      -0.06\n",
       "2      -0.07\n",
       "3      ...  \n",
       "3  0      -0.73\n",
       "1      -0.73\n",
       "2      -0.74\n",
       "3      ...  \n",
       "4  0       0.18\n",
       "1       0.18\n",
       "2       0.18\n",
       "3      ...  "
      ]
     },
     "execution_count": 4,
     "metadata": {},
     "output_type": "execute_result"
    }
   ],
   "source": [
    "#explain the \n",
    "Xtrain.head()"
   ]
  },
  {
   "cell_type": "code",
   "execution_count": 9,
   "metadata": {},
   "outputs": [
    {
     "data": {
      "text/plain": [
       "array(['jumping', 'standing', 'walking'], dtype='<U8')"
      ]
     },
     "execution_count": 9,
     "metadata": {},
     "output_type": "execute_result"
    }
   ],
   "source": [
    "np.unique(ytrain)"
   ]
  },
  {
   "cell_type": "code",
   "execution_count": 10,
   "metadata": {},
   "outputs": [
    {
     "data": {
      "text/plain": [
       "array(['standing', 'standing', 'standing', 'standing', 'walking',\n",
       "       'walking', 'walking', 'walking', 'jumping', 'jumping', 'jumping',\n",
       "       'jumping'], dtype='<U8')"
      ]
     },
     "execution_count": 10,
     "metadata": {},
     "output_type": "execute_result"
    }
   ],
   "source": [
    "ytrain"
   ]
  },
  {
   "cell_type": "code",
   "execution_count": 11,
   "metadata": {},
   "outputs": [
    {
     "data": {
      "text/plain": [
       "array(['standing', 'standing', 'standing', 'standing', 'standing',\n",
       "       'walking', 'walking', 'walking', 'walking', 'walking', 'jumping',\n",
       "       'jumping', 'jumping', 'jumping', 'jumping'], dtype='<U8')"
      ]
     },
     "execution_count": 11,
     "metadata": {},
     "output_type": "execute_result"
    }
   ],
   "source": [
    "ytest"
   ]
  },
  {
   "cell_type": "code",
   "execution_count": null,
   "metadata": {},
   "outputs": [],
   "source": []
  }
 ],
 "metadata": {
  "kernelspec": {
   "display_name": "Python 3",
   "language": "python",
   "name": "python3"
  },
  "language_info": {
   "codemirror_mode": {
    "name": "ipython",
    "version": 3
   },
   "file_extension": ".py",
   "mimetype": "text/x-python",
   "name": "python",
   "nbconvert_exporter": "python",
   "pygments_lexer": "ipython3",
   "version": "3.7.4"
  }
 },
 "nbformat": 4,
 "nbformat_minor": 2
}
